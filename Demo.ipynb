{
 "cells": [
  {
   "cell_type": "code",
   "execution_count": 1,
   "id": "d274148e",
   "metadata": {},
   "outputs": [],
   "source": [
    "# Import findspark \n",
    "import findspark\n",
    "\n",
    "# Initialize and provide path\n",
    "findspark.init(\"D:\\spark\")"
   ]
  },
  {
   "cell_type": "code",
   "execution_count": 2,
   "id": "de1cd5e1",
   "metadata": {},
   "outputs": [],
   "source": [
    "# Import SparkSession\n",
    "from pyspark.sql import SparkSession\n",
    "from pyspark import SparkContext\n",
    "import pyspark"
   ]
  },
  {
   "cell_type": "code",
   "execution_count": 3,
   "id": "b367a3d1",
   "metadata": {},
   "outputs": [],
   "source": [
    "# Import SparkSession\n",
    "from pyspark.sql import SparkSession\n",
    "\n",
    "# Build the SparkSession\n",
    "spark = SparkSession.builder \\\n",
    "   .master(\"local\") \\\n",
    "   .appName(\"Linear Regression Model I\") \\\n",
    "   .config(\"spark.executor.memory\", \"1gb\") \\\n",
    "   .getOrCreate()\n",
    "\n",
    "sc = spark.sparkContext"
   ]
  },
  {
   "cell_type": "code",
   "execution_count": 4,
   "id": "513c23bf",
   "metadata": {},
   "outputs": [],
   "source": [
    "from pyspark.sql.types import *"
   ]
  },
  {
   "cell_type": "code",
   "execution_count": 5,
   "id": "f0d685fa",
   "metadata": {},
   "outputs": [],
   "source": [
    "#create the structure of schema\n",
    "schema = StructType().add(\"id\",\"integer\").add(\"name\",\"string\").add(\"qualification\",\"string\").add(\"age\", \"integer\").add(\"gender\", \"string\")"
   ]
  },
  {
   "cell_type": "code",
   "execution_count": 6,
   "id": "4500c088",
   "metadata": {},
   "outputs": [],
   "source": [
    "#create data\n",
    "data = [\n",
    "    (1,'John',\"B.A.\", 20, \"Male\"),\n",
    "    (2,'Martha',\"B.Com.\", 20, \"Female\"),\n",
    "    (3,'Mona',\"B.Com.\", 21, \"Female\"),\n",
    "    (4,'Harish',\"B.Sc.\", 22, \"Male\"),\n",
    "    (5,'Jonny',\"B.A.\", 22, \"Male\"),\n",
    "    (6,'Maria',\"B.A.\", 23, \"Female\"),\n",
    "    (7,'Monalisa',\"B.A.\", 21, \"Female\")\n",
    "]"
   ]
  },
  {
   "cell_type": "code",
   "execution_count": 7,
   "id": "f510dbc4",
   "metadata": {},
   "outputs": [
    {
     "data": {
      "text/plain": [
       "['id', 'name', 'qualification', 'age', 'gender']"
      ]
     },
     "execution_count": 7,
     "metadata": {},
     "output_type": "execute_result"
    }
   ],
   "source": [
    "#create dataframe\n",
    "df = spark.createDataFrame(data, schema=schema)\n",
    "#columns of dataframe\n",
    "df.columns"
   ]
  },
  {
   "cell_type": "code",
   "execution_count": 8,
   "id": "c991f64d",
   "metadata": {},
   "outputs": [
    {
     "name": "stdout",
     "output_type": "stream",
     "text": [
      "+---+--------+-------------+---+------+\n",
      "| id|    name|qualification|age|gender|\n",
      "+---+--------+-------------+---+------+\n",
      "|  1|    John|         B.A.| 20|  Male|\n",
      "|  2|  Martha|       B.Com.| 20|Female|\n",
      "|  3|    Mona|       B.Com.| 21|Female|\n",
      "|  4|  Harish|        B.Sc.| 22|  Male|\n",
      "|  5|   Jonny|         B.A.| 22|  Male|\n",
      "|  6|   Maria|         B.A.| 23|Female|\n",
      "|  7|Monalisa|         B.A.| 21|Female|\n",
      "+---+--------+-------------+---+------+\n",
      "\n"
     ]
    }
   ],
   "source": [
    "#columns of dataframe\n",
    "df.show()"
   ]
  },
  {
   "cell_type": "code",
   "execution_count": 12,
   "id": "d57d79c0",
   "metadata": {},
   "outputs": [
    {
     "name": "stdout",
     "output_type": "stream",
     "text": [
      "+--------+\n",
      "|    name|\n",
      "+--------+\n",
      "|    John|\n",
      "|  Martha|\n",
      "|    Mona|\n",
      "|  Harish|\n",
      "|   Jonny|\n",
      "|   Maria|\n",
      "|Monalisa|\n",
      "+--------+\n",
      "\n"
     ]
    }
   ],
   "source": [
    "df.select('name').show()"
   ]
  },
  {
   "cell_type": "code",
   "execution_count": 13,
   "id": "4a662856",
   "metadata": {
    "scrolled": true
   },
   "outputs": [
    {
     "name": "stdout",
     "output_type": "stream",
     "text": [
      "+---+-----+\n",
      "|age|count|\n",
      "+---+-----+\n",
      "| 23|    1|\n",
      "| 22|    2|\n",
      "| 21|    2|\n",
      "| 20|    2|\n",
      "+---+-----+\n",
      "\n"
     ]
    }
   ],
   "source": [
    "df.groupby(\"age\").count().sort(\"age\", ascending=False).show()"
   ]
  },
  {
   "cell_type": "code",
   "execution_count": 9,
   "id": "cd0ce490",
   "metadata": {},
   "outputs": [],
   "source": [
    "#import required library\n",
    "from pyspark.ml.feature import StringIndexer"
   ]
  },
  {
   "cell_type": "code",
   "execution_count": 10,
   "id": "b70f097d",
   "metadata": {},
   "outputs": [
    {
     "name": "stdout",
     "output_type": "stream",
     "text": [
      "+---+--------+-------------+---+------+------------------+\n",
      "| id|    name|qualification|age|gender|qualificationIndex|\n",
      "+---+--------+-------------+---+------+------------------+\n",
      "|  1|    John|         B.A.| 20|  Male|               0.0|\n",
      "|  2|  Martha|       B.Com.| 20|Female|               1.0|\n",
      "|  3|    Mona|       B.Com.| 21|Female|               1.0|\n",
      "|  4|  Harish|        B.Sc.| 22|  Male|               2.0|\n",
      "|  5|   Jonny|         B.A.| 22|  Male|               0.0|\n",
      "|  6|   Maria|         B.A.| 23|Female|               0.0|\n",
      "|  7|Monalisa|         B.A.| 21|Female|               0.0|\n",
      "+---+--------+-------------+---+------+------------------+\n",
      "\n"
     ]
    }
   ],
   "source": [
    "qualification_indexer = StringIndexer(inputCol=\"qualification\", outputCol=\"qualificationIndex\")\n",
    "#Fits a model to the input dataset with optional parameters.\n",
    "df1 = qualification_indexer.fit(df).transform(df)\n",
    "df1.show()"
   ]
  },
  {
   "cell_type": "code",
   "execution_count": 11,
   "id": "988e80f5",
   "metadata": {},
   "outputs": [
    {
     "name": "stdout",
     "output_type": "stream",
     "text": [
      "+---+--------+-------------+---+------+-----------+\n",
      "| id|    name|qualification|age|gender|genderIndex|\n",
      "+---+--------+-------------+---+------+-----------+\n",
      "|  1|    John|         B.A.| 20|  Male|        1.0|\n",
      "|  2|  Martha|       B.Com.| 20|Female|        0.0|\n",
      "|  3|    Mona|       B.Com.| 21|Female|        0.0|\n",
      "|  4|  Harish|        B.Sc.| 22|  Male|        1.0|\n",
      "|  5|   Jonny|         B.A.| 22|  Male|        1.0|\n",
      "|  6|   Maria|         B.A.| 23|Female|        0.0|\n",
      "|  7|Monalisa|         B.A.| 21|Female|        0.0|\n",
      "+---+--------+-------------+---+------+-----------+\n",
      "\n"
     ]
    }
   ],
   "source": [
    "gender_indexer = StringIndexer(inputCol=\"gender\", outputCol=\"genderIndex\")\n",
    "#Fits a model to the input dataset with optional parameters.\n",
    "df2 = gender_indexer.fit(df).transform(df)\n",
    "df2.show()"
   ]
  },
  {
   "cell_type": "code",
   "execution_count": 14,
   "id": "21606c17",
   "metadata": {},
   "outputs": [],
   "source": [
    "#import module\n",
    "from pyspark.ml import Pipeline"
   ]
  },
  {
   "cell_type": "code",
   "execution_count": 15,
   "id": "6a50d0f6",
   "metadata": {},
   "outputs": [],
   "source": [
    "schema = StructType().add(\"id\",\"integer\").add(\"name\",\"string\").add(\"qualification\",\"string\").add(\"age\", \"integer\").add(\"gender\", \"string\")\n",
    "df = spark.createDataFrame(data, schema=schema)"
   ]
  },
  {
   "cell_type": "code",
   "execution_count": 16,
   "id": "3fdbc5f6",
   "metadata": {},
   "outputs": [
    {
     "name": "stdout",
     "output_type": "stream",
     "text": [
      "+---+--------+-------------+---+------+------------------+-----------+\n",
      "| id|    name|qualification|age|gender|qualificationIndex|genderIndex|\n",
      "+---+--------+-------------+---+------+------------------+-----------+\n",
      "|  1|    John|         B.A.| 20|  Male|               0.0|        1.0|\n",
      "|  2|  Martha|       B.Com.| 20|Female|               1.0|        0.0|\n",
      "|  3|    Mona|       B.Com.| 21|Female|               1.0|        0.0|\n",
      "|  4|  Harish|        B.Sc.| 22|  Male|               2.0|        1.0|\n",
      "|  5|   Jonny|         B.A.| 22|  Male|               0.0|        1.0|\n",
      "|  6|   Maria|         B.A.| 23|Female|               0.0|        0.0|\n",
      "|  7|Monalisa|         B.A.| 21|Female|               0.0|        0.0|\n",
      "+---+--------+-------------+---+------+------------------+-----------+\n",
      "\n"
     ]
    }
   ],
   "source": [
    "qualification_indexer = StringIndexer(inputCol=\"qualification\", outputCol=\"qualificationIndex\")\n",
    "gender_indexer = StringIndexer(inputCol=\"gender\", outputCol=\"genderIndex\")\n",
    "pipeline = Pipeline(stages=[qualification_indexer, gender_indexer])\n",
    "model = pipeline.fit(df).transform(df)\n",
    "model.show()"
   ]
  },
  {
   "cell_type": "code",
   "execution_count": 17,
   "id": "b4be472b",
   "metadata": {},
   "outputs": [],
   "source": [
    "#spark.stop()"
   ]
  },
  {
   "cell_type": "code",
   "execution_count": null,
   "id": "f5621a46",
   "metadata": {},
   "outputs": [],
   "source": []
  }
 ],
 "metadata": {
  "kernelspec": {
   "display_name": "Python 3",
   "language": "python",
   "name": "python3"
  },
  "language_info": {
   "codemirror_mode": {
    "name": "ipython",
    "version": 3
   },
   "file_extension": ".py",
   "mimetype": "text/x-python",
   "name": "python",
   "nbconvert_exporter": "python",
   "pygments_lexer": "ipython3",
   "version": "3.6.8"
  }
 },
 "nbformat": 4,
 "nbformat_minor": 5
}
